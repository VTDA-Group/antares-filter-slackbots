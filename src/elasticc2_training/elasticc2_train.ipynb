{
 "cells": [
  {
   "cell_type": "markdown",
   "id": "b2e4b8e9-10bb-4b0c-9c2a-b855609c6200",
   "metadata": {},
   "source": [
    "# ELASTICC2 classifier training"
   ]
  },
  {
   "cell_type": "markdown",
   "id": "1a6f71fe-dfad-4ba2-b178-b0d5557291b2",
   "metadata": {},
   "source": [
    "## Step 1: Import enough high-SNR samples per type "
   ]
  },
  {
   "cell_type": "code",
   "execution_count": 1,
   "id": "c64255fc-002d-44e2-9335-b1af258997ca",
   "metadata": {
    "tags": []
   },
   "outputs": [],
   "source": [
    "import glob, os\n",
    "import numpy as np\n",
    "from superphot_plus.lightcurve import Lightcurve\n",
    "from superphot_plus.format_data_ztf import tally_each_class"
   ]
  },
  {
   "cell_type": "code",
   "execution_count": 9,
   "id": "20bf3e93-04a8-4a58-90ed-aa8b032e23a2",
   "metadata": {},
   "outputs": [],
   "source": [
    "# recreate Lightcurve object\n",
    "lc_path = \"../python_repos/superphot-plus/tests/data\"\n",
    "lc_orig = np.load(os.path.join(lc_path, \"ZTF22abvdwik_old.npz\"))['arr_0']\n",
    "t, f, ferr, b = lc_orig\n",
    "lc_orig = Lightcurve(\n",
    "    times=t,\n",
    "    fluxes=f,\n",
    "    flux_errors=ferr,\n",
    "    bands=b\n",
    ")\n",
    "\n",
    "# move to new format\n",
    "lc_orig.name = \"ZTF22abvdwik\"\n",
    "lc_orig.sn_class = \"SN Ia\"\n",
    "lc_orig.save_to_file(os.path.join(lc_path, \"ZTF22abvdwik.npz\"))"
   ]
  },
  {
   "cell_type": "code",
   "execution_count": 6,
   "id": "38be52c9-2ef3-4b1f-b8b1-6156aafe1ec6",
   "metadata": {
    "tags": []
   },
   "outputs": [
    {
     "ename": "SyntaxError",
     "evalue": "'{' was never closed (3326518947.py, line 36)",
     "output_type": "error",
     "traceback": [
      "\u001b[0;36m  Cell \u001b[0;32mIn[6], line 36\u001b[0;36m\u001b[0m\n\u001b[0;31m    labels_to_classes_condensed = {\u001b[0m\n\u001b[0m                                  ^\u001b[0m\n\u001b[0;31mSyntaxError\u001b[0m\u001b[0;31m:\u001b[0m '{' was never closed\n"
     ]
    }
   ],
   "source": [
    "labels_to_classes = {\n",
    "    \"SNIa-SALT3\": 10,\n",
    "    \"SNIa-91bg\": 11,\n",
    "    \"SNIax\": 12,\n",
    "    \"SNIb\": 20,\n",
    "    \"SNIb-host\": 21,\n",
    "    \"SNIcBL-host\": 27,\n",
    "    \"SNIc\": 25,\n",
    "    \"SNIc-host\": 26,\n",
    "    \"SNII-NMF\": 30,\n",
    "    \"SNII\": 31,\n",
    "    \"SNII-host\": 32,\n",
    "    \"SNIIn\": 35,\n",
    "    \"SNIIn-host\": 36,\n",
    "    \"SNIIb-host\": 37,\n",
    "    \"SLSNI-host\": 40,\n",
    "    \"TDE\": 42,\n",
    "    \"ILOT\": 45,\n",
    "    \"CART\": 46,\n",
    "    \"KN-K17\": 50,\n",
    "    \"KN-B19\": 51,\n",
    "    \"PISN\": 59,\n",
    "    \"CLAGN\": 60,\n",
    "    \"RRL\": 80,\n",
    "    \"Mdwarf\": 82,\n",
    "    \"EB\": 83,\n",
    "    \"dwarf-nova\": 84,\n",
    "    \"uLens-single\": 87,\n",
    "    \"uLens-single2\": 88,\n",
    "    \"uLens-binary\": 89,\n",
    "    \"Cepheid\": 90,\n",
    "    \"DSCT\": 91,\n",
    "}\n",
    "classes_to_labels = {labels_to_classes[x] : x for x in labels_to_classes}\n",
    "\n",
    "labels_to_classes_elasticc = {\n",
    "    \"SNIa\": [10, 11],\n",
    "    \"SNIbc\": [20, 21, 25, 26, 27],\n",
    "    \"SNII\": [31, 32, 35, 36\n",
    "}"
   ]
  },
  {
   "cell_type": "code",
   "execution_count": 5,
   "id": "31380fd8-3074-42e3-960d-afbb8636b0ab",
   "metadata": {
    "tags": []
   },
   "outputs": [
    {
     "name": "stdout",
     "output_type": "stream",
     "text": [
      "PISN: 2038\n",
      "CLAGN: 2454\n",
      "SNIa-91bg: 519\n",
      "SNIb: 392\n",
      "CART: 171\n",
      "SNIa-SALT3: 2252\n",
      "SNII: 987\n",
      "KN-B19: 4\n",
      "EB: 1609\n",
      "uLens-single2: 178\n",
      "DSCT: 722\n",
      "SNII-NMF: 738\n",
      "SNIb-host: 1196\n",
      "TDE: 1613\n",
      "SNIc: 214\n",
      "SNIax: 532\n",
      "KN-K17: 3\n",
      "Mdwarf: 8\n",
      "SNIIb-host: 1094\n",
      "Cepheid: 479\n",
      "SLSNI-host: 2006\n",
      "SNII-host: 1117\n",
      "RRL: 495\n",
      "uLens-binary: 97\n",
      "SNIcBL-host: 438\n",
      "ILOT: 219\n",
      "SNIIn-host: 1353\n",
      "SNIIn: 328\n",
      "SNIc-host: 1346\n",
      "uLens-single: 233\n",
      "dwarf-nova: 146\n",
      "\n"
     ]
    }
   ],
   "source": [
    "data_dir = \"../elasticc2_dataset_preprocessed\"\n",
    "all_lc_files = glob.glob(os.path.join(data_dir, \"*\", \"*.npz\"))\n",
    "\n",
    "lcs = []\n",
    "classes = []\n",
    "for lc_fn in all_lc_files:\n",
    "    lc = Lightcurve.from_file(lc_fn)\n",
    "    if lc.times is None:\n",
    "        continue\n",
    "    lcs.append(lc)\n",
    "    c = int(lc.sn_class)\n",
    "    if c not in classes and c not in classes_to_labels:\n",
    "        print(lc_fn, c)\n",
    "    classes.append(c)\n",
    "\n",
    "labels = [classes_to_labels[x] for x in classes]\n",
    "tally_each_class(labels)"
   ]
  },
  {
   "cell_type": "code",
   "execution_count": null,
   "id": "52c61035-b9bd-43d6-9289-d81f04958e5c",
   "metadata": {},
   "outputs": [],
   "source": []
  }
 ],
 "metadata": {
  "kernelspec": {
   "display_name": "superphot_env",
   "language": "python",
   "name": "superphot_env"
  },
  "language_info": {
   "codemirror_mode": {
    "name": "ipython",
    "version": 3
   },
   "file_extension": ".py",
   "mimetype": "text/x-python",
   "name": "python",
   "nbconvert_exporter": "python",
   "pygments_lexer": "ipython3",
   "version": "3.10.0"
  }
 },
 "nbformat": 4,
 "nbformat_minor": 5
}
