{
 "cells": [
  {
   "cell_type": "code",
   "execution_count": 4,
   "id": "19318f41-c070-4217-b4a0-7a9361f71e47",
   "metadata": {
    "execution": {
     "iopub.execute_input": "2024-01-30T05:16:12.957265Z",
     "iopub.status.busy": "2024-01-30T05:16:12.956733Z",
     "iopub.status.idle": "2024-01-30T05:17:20.872066Z",
     "shell.execute_reply": "2024-01-30T05:17:20.870660Z",
     "shell.execute_reply.started": "2024-01-30T05:16:12.957222Z"
    },
    "tags": []
   },
   "outputs": [
    {
     "name": "stdout",
     "output_type": "stream",
     "text": [
      "Requirement already satisfied: lightgbm in /data0/sw.tmpfs/antares-kernel/lib/python3.9/site-packages (3.3.2)\n",
      "Collecting lightgbm\n",
      "  Downloading lightgbm-4.3.0.tar.gz (1.7 MB)\n",
      "\u001b[2K     \u001b[90m━━━━━━━━━━━━━━━━━━━━━━━━━━━━━━━━━━━━━━━━\u001b[0m \u001b[32m1.7/1.7 MB\u001b[0m \u001b[31m12.3 MB/s\u001b[0m eta \u001b[36m0:00:00\u001b[0ma \u001b[36m0:00:01\u001b[0m\n",
      "\u001b[?25h  Installing build dependencies: started\n",
      "  Installing build dependencies: finished with status 'done'\n",
      "  Getting requirements to build wheel: started\n",
      "  Getting requirements to build wheel: finished with status 'done'\n",
      "  Installing backend dependencies: started\n",
      "  Installing backend dependencies: finished with status 'done'\n",
      "  Preparing metadata (pyproject.toml): started\n",
      "  Preparing metadata (pyproject.toml): finished with status 'done'\n",
      "Requirement already satisfied: numpy in /data0/sw.tmpfs/antares-kernel/lib/python3.9/site-packages (from lightgbm) (1.24.2)\n",
      "Requirement already satisfied: scipy in /data0/sw.tmpfs/antares-kernel/lib/python3.9/site-packages (from lightgbm) (1.10.1)\n",
      "Building wheels for collected packages: lightgbm\n",
      "  Building wheel for lightgbm (pyproject.toml): started\n",
      "  Building wheel for lightgbm (pyproject.toml): finished with status 'done'\n",
      "  Created wheel for lightgbm: filename=lightgbm-4.3.0-py3-none-manylinux_2_17_x86_64.whl size=2787621 sha256=f5cdc750110c93384b0ce455d4fd10407d3a7fa270df6dd321bbd90764de8e03\n",
      "  Stored in directory: /tmp/pip-ephem-wheel-cache-abpae5fo/wheels/fc/e6/da/850988b6c56b2650268501cd617c3512f709f05b57438d4628\n",
      "Successfully built lightgbm\n",
      "Installing collected packages: lightgbm\n",
      "Successfully installed lightgbm-4.3.0\n"
     ]
    },
    {
     "data": {
      "text/plain": [
       "0"
      ]
     },
     "execution_count": 4,
     "metadata": {},
     "output_type": "execute_result"
    }
   ],
   "source": [
    "import sys\n",
    "import os\n",
    "import shutil\n",
    "import subprocess\n",
    "import glob\n",
    "\n",
    "\"\"\"\n",
    "dirs = glob.glob('/tmp/pip-unpack-*')\n",
    "for d in dirs:\n",
    "    files = glob.glob(\n",
    "        os.path.join(d, '*')\n",
    "    )\n",
    "    for f in files:\n",
    "        print(f)\n",
    "        with open(f, 'w') as fn:\n",
    "            fn.write('')\n",
    "        \n",
    "files = glob.glob(\n",
    "    os.path.join('/tmp/planck', '*')\n",
    ")\n",
    "for f in files:\n",
    "    print(f)\n",
    "    with open(f, 'w') as fn:\n",
    "        fn.write('')\n",
    "subprocess.check_call(['ls', '/tmp'])\n",
    "\"\"\"\n",
    "#check_call([sys.executable, '-mpip', 'uninstall','--yes', 'jaxlib'])\n",
    "#check_call([sys.executable, '-mpip', 'uninstall','--yes', 'jax'])\n",
    "#subprocess.check_call(['pip','freeze'])\n",
    "#subprocess.check_call([sys.executable, '-mpip', 'install', '--user', '-U', '--no-cache-dir', 'superphot-plus@git+https://github.com/VTDA-Group/superphot-plus'])\n",
    "#subprocess.check_call([sys.executable, '-mpip', 'install', '--user', '-U', '--no-cache-dir', 'dynesty'])\n",
    "subprocess.check_call([sys.executable, '-mpip', 'install', '--user', '-U', '--no-cache-dir', 'lightgbm'])"
   ]
  },
  {
   "cell_type": "code",
   "execution_count": 1,
   "id": "f525348e-8367-4c59-80af-a5ea32d9a3f8",
   "metadata": {
    "execution": {
     "iopub.execute_input": "2024-01-30T22:04:08.822383Z",
     "iopub.status.busy": "2024-01-30T22:04:08.821711Z",
     "iopub.status.idle": "2024-01-30T22:05:16.330577Z",
     "shell.execute_reply": "2024-01-30T22:05:16.329037Z",
     "shell.execute_reply.started": "2024-01-30T22:04:08.822319Z"
    },
    "tags": []
   },
   "outputs": [
    {
     "name": "stdout",
     "output_type": "stream",
     "text": [
      "Loading ANTARES from /data0/sw/antares-kernel/lib/python3.9/site-packages/antares/__init__.py\n",
      "\n",
      "        _    _   _ _____  _    ____  _____ ____\n",
      "       / \\  | \\ | |_   _|/ \\  |  _ \\| ____/ ___|\n",
      "      / _ \\ |  \\| | | | / _ \\ | |_| |  _| \\___ \\\\\n",
      "     / ___ \\| |\\  | | |/ ___ \\|  _ /| |___ ___| |\n",
      "    /_/   \\_\\_| \\_| |_/_/   \\_\\_| \\_\\_____|____/   v2.9.0\n",
      "    \n",
      "2024-01-30 15:04:10,709 - WARNING MainThread settings.py:setup_prometheus:124 - Prometheus failed to start with [Errno 98] Address already in use\n"
     ]
    },
    {
     "name": "stderr",
     "output_type": "stream",
     "text": [
      "Jaeger tracer already initialized, skipping\n"
     ]
    },
    {
     "name": "stdout",
     "output_type": "stream",
     "text": [
      "Testing loading a random Locus with `dk.get_locus()`...\n",
      "\n",
      "ANTARES v2.9.0 DevKit is ready!\n",
      "Website: https://antares.noirlab.edu\n",
      "Documentation: https://nsf-noirlab.gitlab.io/csdc/antares/antares/\n",
      "\n"
     ]
    }
   ],
   "source": [
    "import antares.devkit as dk\n",
    "dk.init()"
   ]
  },
  {
   "cell_type": "code",
   "execution_count": null,
   "id": "2a9e8e16-4288-47ae-8c4d-45fb5a0d594f",
   "metadata": {
    "tags": []
   },
   "outputs": [],
   "source": [
    "#dk.upload_file(key='superphot_plus_lightgbm_v1.pt', file_path='./superphot_plus_lightgbm_v1.pt')\n",
    "#dk.upload_file(key='superphot_plus_lightgbm_v1.yaml', file_path='./superphot_plus_lightgbm_v1.yaml')"
   ]
  },
  {
   "cell_type": "code",
   "execution_count": 2,
   "id": "a73affff-3043-4fa6-91e0-febf44030ec6",
   "metadata": {
    "execution": {
     "iopub.execute_input": "2024-01-30T22:05:16.332956Z",
     "iopub.status.busy": "2024-01-30T22:05:16.332670Z",
     "iopub.status.idle": "2024-01-30T22:06:35.144529Z",
     "shell.execute_reply": "2024-01-30T22:06:35.142939Z",
     "shell.execute_reply.started": "2024-01-30T22:05:16.332929Z"
    },
    "tags": []
   },
   "outputs": [
    {
     "name": "stderr",
     "output_type": "stream",
     "text": [
      "/data0/sw/antares-kernel/lib/python3.9/site-packages/ddtrace/internal/module.py:224: TqdmWarning: IProgress not found. Please update jupyter and ipywidgets. See https://ipywidgets.readthedocs.io/en/stable/user_install.html\n",
      "  self.loader.exec_module(module)\n",
      "2024-01-30 15:05:19.310448: E external/local_xla/xla/stream_executor/cuda/cuda_dnn.cc:9261] Unable to register cuDNN factory: Attempting to register factory for plugin cuDNN when one has already been registered\n",
      "2024-01-30 15:05:19.310509: E external/local_xla/xla/stream_executor/cuda/cuda_fft.cc:607] Unable to register cuFFT factory: Attempting to register factory for plugin cuFFT when one has already been registered\n",
      "2024-01-30 15:05:19.312588: E external/local_xla/xla/stream_executor/cuda/cuda_blas.cc:1515] Unable to register cuBLAS factory: Attempting to register factory for plugin cuBLAS when one has already been registered\n",
      "2024-01-30 15:05:20.361111: W tensorflow/compiler/tf2tensorrt/utils/py_utils.cc:38] TF-TRT Warning: Could not find TensorRT\n",
      "Span has already been finished; will not be reported again.\n"
     ]
    },
    {
     "name": "stdout",
     "output_type": "stream",
     "text": [
      "Downloading SFD data file to /tmp/sfd/SFD_dust_4096_ngp.fits\n",
      "Checking existing file to see if MD5 sum matches ...\n",
      "File exists. Not overwriting.\n",
      "Downloading SFD data file to /tmp/sfd/SFD_dust_4096_sgp.fits\n",
      "Checking existing file to see if MD5 sum matches ...\n",
      "File exists. Not overwriting.\n"
     ]
    },
    {
     "name": "stderr",
     "output_type": "stream",
     "text": [
      "/data0/sw/antares-kernel/lib/python3.9/site-packages/sklearn/base.py:310: UserWarning: Trying to unpickle estimator LabelEncoder from version 1.3.2 when using version 0.24.2. This might lead to breaking code or invalid results. Use at your own risk.\n",
      "  warnings.warn(\n"
     ]
    }
   ],
   "source": [
    "from superphot_plus_ztf import SuperphotPlusZTF\n",
    "#locus_ids = ['ANT2021ocix4', 'ANT2022yu20z26uj3fc']\n",
    "locus_ids = ['ANT2021ocix4', 'ANT2021cg25w','ANT2021ocix4', 'ANT2021cg25w','ANT2021ocix4', 'ANT2021cg25w']\n",
    "#locus_ids = ['ANT2021ocix4',] * 10\n",
    "#locus_ids = ['ANT2025rmnwol4p3uw9',]\n",
    "report = dk.run_many(SuperphotPlusZTF, locus_ids=locus_ids)"
   ]
  },
  {
   "cell_type": "code",
   "execution_count": 3,
   "id": "bc8f3504-bb27-44d7-9f90-7862d5ccba07",
   "metadata": {
    "execution": {
     "iopub.execute_input": "2024-01-30T22:07:00.038115Z",
     "iopub.status.busy": "2024-01-30T22:07:00.037381Z",
     "iopub.status.idle": "2024-01-30T22:07:00.049854Z",
     "shell.execute_reply": "2024-01-30T22:07:00.048364Z",
     "shell.execute_reply.started": "2024-01-30T22:07:00.038051Z"
    },
    "tags": []
   },
   "outputs": [
    {
     "name": "stdout",
     "output_type": "stream",
     "text": [
      "{'n': 6, 'results': [{'locus_id': 'ANT2021ocix4', 'locus_data': FilterContext(locus_id=\"ANT2021ocix4\"), 't': 13.128582260000002, 'new_locus_properties': {'superphot_plus_sampler': 'svi', 'superphot_plus_runtime': 12.853590488433838, 'superphot_plus_peak_amplitude': 2360.0, 'superphot_plus_rel_plateau_slope': 0.00995, 'superphot_plus_plateau_duration': 14.9, 'superphot_plus_center_phase': -12.5, 'superphot_plus_rise_timescale': 3.68, 'superphot_plus_fall_timescale': 28.9, 'superphot_plus_extra_sigma': 19.0, 'superphot_plus_peak_amplitude_ratio': 1.04, 'superphot_plus_plateau_slope_ratio': 0.642, 'superphot_plus_plateau_duration_ratio': 0.99, 'superphot_plus_center_phase_offset': -1.27, 'superphot_plus_rise_timescale_ratio': 0.753, 'superphot_plus_fall_timescale_ratio': 0.519, 'superphot_plus_extra_sigma_ratio': 0.667, 'superphot_plus_reduced_chisquared': 0.599, 'superphot_plus_class': 'SN Ia', 'superphot_plus_class_prob': 0.954}, 'new_alert_properties': {}, 'new_tags': {'superphot_plus_classified'}, 'raised_halt': False}, {'locus_id': 'ANT2021cg25w', 'locus_data': FilterContext(locus_id=\"ANT2021cg25w\"), 't': 58.440091562999996, 'new_locus_properties': {'superphot_plus_sampler': 'dynesty', 'superphot_plus_runtime': 15.513872146606445, 'superphot_plus_peak_amplitude': 4770.0, 'superphot_plus_rel_plateau_slope': 0.00987, 'superphot_plus_plateau_duration': 18.1, 'superphot_plus_center_phase': -17.1, 'superphot_plus_rise_timescale': 4.06, 'superphot_plus_fall_timescale': 25.4, 'superphot_plus_extra_sigma': 66.8, 'superphot_plus_peak_amplitude_ratio': 0.997, 'superphot_plus_plateau_slope_ratio': 0.666, 'superphot_plus_plateau_duration_ratio': 0.842, 'superphot_plus_center_phase_offset': -1.08, 'superphot_plus_rise_timescale_ratio': 0.791, 'superphot_plus_fall_timescale_ratio': 0.591, 'superphot_plus_extra_sigma_ratio': 0.827, 'superphot_plus_reduced_chisquared': 0.532, 'superphot_plus_class': 'SN Ia', 'superphot_plus_class_prob': 0.695}, 'new_alert_properties': {}, 'new_tags': {'superphot_plus_classified'}, 'raised_halt': False}, {'locus_id': 'ANT2021ocix4', 'locus_data': FilterContext(locus_id=\"ANT2021ocix4\"), 't': 0.4919146450000085, 'new_locus_properties': {'superphot_plus_sampler': 'svi', 'superphot_plus_runtime': 0.4068789482116699, 'superphot_plus_peak_amplitude': 2360.0, 'superphot_plus_rel_plateau_slope': 0.00995, 'superphot_plus_plateau_duration': 14.9, 'superphot_plus_center_phase': -12.5, 'superphot_plus_rise_timescale': 3.68, 'superphot_plus_fall_timescale': 28.9, 'superphot_plus_extra_sigma': 19.0, 'superphot_plus_peak_amplitude_ratio': 1.04, 'superphot_plus_plateau_slope_ratio': 0.642, 'superphot_plus_plateau_duration_ratio': 0.99, 'superphot_plus_center_phase_offset': -1.27, 'superphot_plus_rise_timescale_ratio': 0.753, 'superphot_plus_fall_timescale_ratio': 0.519, 'superphot_plus_extra_sigma_ratio': 0.667, 'superphot_plus_reduced_chisquared': 0.599, 'superphot_plus_class': 'SN Ia', 'superphot_plus_class_prob': 0.954}, 'new_alert_properties': {}, 'new_tags': {'superphot_plus_classified'}, 'raised_halt': False}, {'locus_id': 'ANT2021cg25w', 'locus_data': FilterContext(locus_id=\"ANT2021cg25w\"), 't': 58.53256418000001, 'new_locus_properties': {'superphot_plus_sampler': 'dynesty', 'superphot_plus_runtime': 16.663022994995117, 'superphot_plus_peak_amplitude': 4850.0, 'superphot_plus_rel_plateau_slope': 0.011, 'superphot_plus_plateau_duration': 21.2, 'superphot_plus_center_phase': -16.9, 'superphot_plus_rise_timescale': 4.22, 'superphot_plus_fall_timescale': 23.9, 'superphot_plus_extra_sigma': 145.0, 'superphot_plus_peak_amplitude_ratio': 0.965, 'superphot_plus_plateau_slope_ratio': 0.64, 'superphot_plus_plateau_duration_ratio': 0.752, 'superphot_plus_center_phase_offset': -1.39, 'superphot_plus_rise_timescale_ratio': 0.761, 'superphot_plus_fall_timescale_ratio': 0.646, 'superphot_plus_extra_sigma_ratio': 0.54, 'superphot_plus_reduced_chisquared': 0.483, 'superphot_plus_class': 'SN Ia', 'superphot_plus_class_prob': 0.552}, 'new_alert_properties': {}, 'new_tags': {'superphot_plus_classified'}, 'raised_halt': False}, {'locus_id': 'ANT2021ocix4', 'locus_data': FilterContext(locus_id=\"ANT2021ocix4\"), 't': 0.4885987039999975, 'new_locus_properties': {'superphot_plus_sampler': 'svi', 'superphot_plus_runtime': 0.37957096099853516, 'superphot_plus_peak_amplitude': 2360.0, 'superphot_plus_rel_plateau_slope': 0.00995, 'superphot_plus_plateau_duration': 14.9, 'superphot_plus_center_phase': -12.5, 'superphot_plus_rise_timescale': 3.68, 'superphot_plus_fall_timescale': 28.9, 'superphot_plus_extra_sigma': 19.0, 'superphot_plus_peak_amplitude_ratio': 1.04, 'superphot_plus_plateau_slope_ratio': 0.642, 'superphot_plus_plateau_duration_ratio': 0.99, 'superphot_plus_center_phase_offset': -1.27, 'superphot_plus_rise_timescale_ratio': 0.753, 'superphot_plus_fall_timescale_ratio': 0.519, 'superphot_plus_extra_sigma_ratio': 0.667, 'superphot_plus_reduced_chisquared': 0.599, 'superphot_plus_class': 'SN Ia', 'superphot_plus_class_prob': 0.954}, 'new_alert_properties': {}, 'new_tags': {'superphot_plus_classified'}, 'raised_halt': False}, {'locus_id': 'ANT2021cg25w', 'locus_data': FilterContext(locus_id=\"ANT2021cg25w\"), 't': 50.65651061400001, 'new_locus_properties': {'superphot_plus_sampler': 'dynesty', 'superphot_plus_runtime': 14.455995798110962, 'superphot_plus_peak_amplitude': 4920.0, 'superphot_plus_rel_plateau_slope': 0.0103, 'superphot_plus_plateau_duration': 21.6, 'superphot_plus_center_phase': -16.3, 'superphot_plus_rise_timescale': 4.89, 'superphot_plus_fall_timescale': 27.4, 'superphot_plus_extra_sigma': 174.0, 'superphot_plus_peak_amplitude_ratio': 0.912, 'superphot_plus_plateau_slope_ratio': 0.537, 'superphot_plus_plateau_duration_ratio': 0.779, 'superphot_plus_center_phase_offset': -2.37, 'superphot_plus_rise_timescale_ratio': 0.592, 'superphot_plus_fall_timescale_ratio': 0.574, 'superphot_plus_extra_sigma_ratio': 0.792, 'superphot_plus_reduced_chisquared': 0.571, 'superphot_plus_class': 'SN Ia', 'superphot_plus_class_prob': 0.435}, 'new_alert_properties': {}, 'new_tags': {'superphot_plus_classified'}, 'raised_halt': False}], 't_50_percentile': 31.892546437000007, 't_90_percentile': 58.4863278715, 't_95_percentile': 58.50944602575001, 't_99_percentile': 58.52794054915001}\n"
     ]
    }
   ],
   "source": [
    "print(report)"
   ]
  },
  {
   "cell_type": "code",
   "execution_count": 7,
   "id": "95eb0f3a-a857-493a-9fc3-e1e6eeab3a2b",
   "metadata": {
    "execution": {
     "iopub.execute_input": "2023-09-19T16:20:59.992707Z",
     "iopub.status.busy": "2023-09-19T16:20:59.992422Z",
     "iopub.status.idle": "2023-09-19T16:20:59.996859Z",
     "shell.execute_reply": "2023-09-19T16:20:59.995805Z",
     "shell.execute_reply.started": "2023-09-19T16:20:59.992681Z"
    }
   },
   "outputs": [],
   "source": [
    "#from classify_sn import DesotoSNClassifier\n",
    "#report2 = dk.run_many(DesotoSNClassifier, locus_ids=['ANT2021ocix4'])"
   ]
  },
  {
   "cell_type": "code",
   "execution_count": 8,
   "id": "75830788-8120-40df-b714-0452ced7ba8b",
   "metadata": {
    "execution": {
     "iopub.execute_input": "2023-09-19T16:20:59.998306Z",
     "iopub.status.busy": "2023-09-19T16:20:59.998031Z",
     "iopub.status.idle": "2023-09-19T16:21:00.003220Z",
     "shell.execute_reply": "2023-09-19T16:21:00.002301Z",
     "shell.execute_reply.started": "2023-09-19T16:20:59.998281Z"
    }
   },
   "outputs": [],
   "source": [
    "#print(report2)"
   ]
  },
  {
   "cell_type": "code",
   "execution_count": null,
   "id": "c2034b72-f0f4-4186-a624-1c0b28efd03f",
   "metadata": {},
   "outputs": [],
   "source": []
  }
 ],
 "metadata": {
  "kernelspec": {
   "display_name": "Python 3 (ANTARES)",
   "language": "python",
   "name": "antares_py3.7"
  },
  "language_info": {
   "codemirror_mode": {
    "name": "ipython",
    "version": 3
   },
   "file_extension": ".py",
   "mimetype": "text/x-python",
   "name": "python",
   "nbconvert_exporter": "python",
   "pygments_lexer": "ipython3",
   "version": "3.9.18"
  }
 },
 "nbformat": 4,
 "nbformat_minor": 5
}
