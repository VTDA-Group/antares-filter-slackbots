{
 "cells": [
  {
   "cell_type": "markdown",
   "id": "6c091e13-4667-46d3-b8eb-57fa8557ede4",
   "metadata": {
    "jp-MarkdownHeadingCollapsed": true
   },
   "source": [
    "## Run only if you need to install packages"
   ]
  },
  {
   "cell_type": "code",
   "execution_count": 1,
   "id": "0250013d-ed57-4d01-8963-afe69c7f528c",
   "metadata": {
    "execution": {
     "iopub.execute_input": "2024-12-09T16:22:22.241651Z",
     "iopub.status.busy": "2024-12-09T16:22:22.241264Z",
     "iopub.status.idle": "2024-12-09T16:22:22.256489Z",
     "shell.execute_reply": "2024-12-09T16:22:22.255833Z",
     "shell.execute_reply.started": "2024-12-09T16:22:22.241635Z"
    }
   },
   "outputs": [],
   "source": [
    "%%bash\n",
    "TMPDIR=/home/jail/temp\n",
    "export PATH=\"/home/jail/dlusers/kdesoto/.local/lib/python3.9/site-packages/:$PATH\"\n",
    "export PYTHONPATH=\"/home/jail/dlusers/kdesoto/.local/lib/python3.9/site-packages/:$PYTHONPATH\"\n",
    "export LD_LIBRARY_PATH=\"/home/jail/dlusers/kdesoto/.local/lib/python3.9/site-packages/:$LD_LIBRARY_PATH\""
   ]
  },
  {
   "cell_type": "code",
   "execution_count": null,
   "id": "988b5d77",
   "metadata": {},
   "outputs": [],
   "source": []
  },
  {
   "cell_type": "code",
   "execution_count": 2,
   "id": "19318f41-c070-4217-b4a0-7a9361f71e47",
   "metadata": {
    "execution": {
     "iopub.execute_input": "2024-12-09T16:22:22.257668Z",
     "iopub.status.busy": "2024-12-09T16:22:22.257273Z",
     "iopub.status.idle": "2024-12-09T16:22:45.353140Z",
     "shell.execute_reply": "2024-12-09T16:22:45.352655Z",
     "shell.execute_reply.started": "2024-12-09T16:22:22.257653Z"
    },
    "tags": []
   },
   "outputs": [
    {
     "name": "stdout",
     "output_type": "stream",
     "text": [
      "/home/jail/./dlusers/kdesoto/.local/lib/python3.9/site-packages\n",
      "/home/jail/dlusers/kdesoto/notebooks/ztf_filter\n",
      "Defaulting to user installation because normal site-packages is not writeable\n",
      "Collecting git+https://github.com/kdesoto-astro/snapi.git@main\n",
      "  Cloning https://github.com/kdesoto-astro/snapi.git (to revision main) to /tmp/pip-req-build-wd0fiwjd\n"
     ]
    },
    {
     "name": "stderr",
     "output_type": "stream",
     "text": [
      "WARNING: Ignoring invalid distribution -rotobuf (/home/jail/dlusers/kdesoto/.local/lib/python3.9/site-packages)\n",
      "WARNING: Ignoring invalid distribution -rotobuf (/home/jail/dlusers/kdesoto/.local/lib/python3.9/site-packages)\n",
      "  Running command git clone -q https://github.com/kdesoto-astro/snapi.git /tmp/pip-req-build-wd0fiwjd\n"
     ]
    },
    {
     "name": "stdout",
     "output_type": "stream",
     "text": [
      "  Resolved https://github.com/kdesoto-astro/snapi.git to commit 3d286fb27550346d83895f63697f7787bbe1224b\n",
      "  Installing build dependencies: started\n",
      "  Installing build dependencies: finished with status 'done'\n",
      "  Getting requirements to build wheel: started\n",
      "  Getting requirements to build wheel: finished with status 'done'\n",
      "    Preparing wheel metadata: started\n",
      "    Preparing wheel metadata: finished with status 'done'\n",
      "Requirement already satisfied: colorcet in /home/jail/dlusers/kdesoto/.local/lib/python3.9/site-packages (from snapi==0.1.dev196+g3d286fb) (3.1.0)\n",
      "Requirement already satisfied: astropy in /home/jail/dlusers/kdesoto/.local/lib/python3.9/site-packages (from snapi==0.1.dev196+g3d286fb) (6.0.1)\n",
      "Requirement already satisfied: pandas-stubs in /home/jail/dlusers/kdesoto/.local/lib/python3.9/site-packages (from snapi==0.1.dev196+g3d286fb) (2.2.2.240807)\n",
      "Requirement already satisfied: requests in /usr/lib/python3.9/site-packages (from snapi==0.1.dev196+g3d286fb) (2.25.1)\n",
      "Requirement already satisfied: dill in /home/jail/dlusers/kdesoto/.local/lib/python3.9/site-packages (from snapi==0.1.dev196+g3d286fb) (0.3.9)\n",
      "Requirement already satisfied: george in /home/jail/dlusers/kdesoto/.local/lib/python3.9/site-packages (from snapi==0.1.dev196+g3d286fb) (0.4.3)\n",
      "Requirement already satisfied: numba in /home/jail/dlusers/kdesoto/.local/lib/python3.9/site-packages (from snapi==0.1.dev196+g3d286fb) (0.60.0)\n",
      "Requirement already satisfied: pandas in /home/jail/dlusers/kdesoto/.local/lib/python3.9/site-packages (from snapi==0.1.dev196+g3d286fb) (2.2.2)\n",
      "Requirement already satisfied: tables in /home/jail/dlusers/kdesoto/.local/lib/python3.9/site-packages (from snapi==0.1.dev196+g3d286fb) (3.9.2)\n",
      "Requirement already satisfied: pyarrow in /home/jail/dlusers/kdesoto/.local/lib/python3.9/site-packages (from snapi==0.1.dev196+g3d286fb) (18.1.0)\n",
      "Requirement already satisfied: extinction in /home/jail/dlusers/kdesoto/.local/lib/python3.9/site-packages (from snapi==0.1.dev196+g3d286fb) (0.4.6)\n",
      "Requirement already satisfied: types-requests in /home/jail/dlusers/kdesoto/.local/lib/python3.9/site-packages (from snapi==0.1.dev196+g3d286fb) (2.31.0.6)\n",
      "Requirement already satisfied: matplotlib in /home/jail/dlusers/kdesoto/.local/lib/python3.9/site-packages (from snapi==0.1.dev196+g3d286fb) (3.9.3)\n",
      "Requirement already satisfied: dustmaps in /home/jail/dlusers/kdesoto/.local/lib/python3.9/site-packages (from snapi==0.1.dev196+g3d286fb) (1.0.13)\n",
      "Requirement already satisfied: multiprocess in /home/jail/dlusers/kdesoto/.local/lib/python3.9/site-packages (from snapi==0.1.dev196+g3d286fb) (0.70.17)\n",
      "Requirement already satisfied: python-dotenv in /home/jail/dlusers/kdesoto/.local/lib/python3.9/site-packages (from snapi==0.1.dev196+g3d286fb) (1.0.1)\n",
      "Requirement already satisfied: numpy==1.23.5 in /home/jail/dlusers/kdesoto/.local/lib/python3.9/site-packages (from snapi==0.1.dev196+g3d286fb) (1.23.5)\n",
      "Requirement already satisfied: pyts in /home/jail/dlusers/kdesoto/.local/lib/python3.9/site-packages (from snapi==0.1.dev196+g3d286fb) (0.13.0)\n",
      "Requirement already satisfied: astropy-iers-data>=0.2024.2.26.0.28.55 in /home/jail/dlusers/kdesoto/.local/lib/python3.9/site-packages (from astropy->snapi==0.1.dev196+g3d286fb) (0.2024.6.3.0.31.14)\n",
      "Requirement already satisfied: pyerfa>=2.0.1.1 in /home/jail/dlusers/kdesoto/.local/lib/python3.9/site-packages (from astropy->snapi==0.1.dev196+g3d286fb) (2.0.1.4)\n",
      "Requirement already satisfied: PyYAML>=3.13 in /usr/lib64/python3.9/site-packages (from astropy->snapi==0.1.dev196+g3d286fb) (5.4.1)\n",
      "Requirement already satisfied: packaging>=19.0 in /home/jail/dlusers/kdesoto/.local/lib/python3.9/site-packages (from astropy->snapi==0.1.dev196+g3d286fb) (24.0)\n",
      "Requirement already satisfied: six in /usr/lib/python3.9/site-packages (from dustmaps->snapi==0.1.dev196+g3d286fb) (1.15.0)\n",
      "Requirement already satisfied: scipy in /home/jail/dlusers/kdesoto/.local/lib/python3.9/site-packages (from dustmaps->snapi==0.1.dev196+g3d286fb) (1.13.1)\n",
      "Requirement already satisfied: h5py in /home/jail/dlusers/kdesoto/.local/lib/python3.9/site-packages (from dustmaps->snapi==0.1.dev196+g3d286fb) (3.11.0)\n",
      "Requirement already satisfied: healpy in /home/jail/dlusers/kdesoto/.local/lib/python3.9/site-packages (from dustmaps->snapi==0.1.dev196+g3d286fb) (1.17.1)\n",
      "Requirement already satisfied: progressbar2 in /home/jail/dlusers/kdesoto/.local/lib/python3.9/site-packages (from dustmaps->snapi==0.1.dev196+g3d286fb) (4.4.2)\n",
      "Requirement already satisfied: pillow>=8 in /home/jail/dlusers/kdesoto/.local/lib/python3.9/site-packages (from matplotlib->snapi==0.1.dev196+g3d286fb) (11.0.0)\n",
      "Requirement already satisfied: fonttools>=4.22.0 in /home/jail/dlusers/kdesoto/.local/lib/python3.9/site-packages (from matplotlib->snapi==0.1.dev196+g3d286fb) (4.55.2)\n",
      "Requirement already satisfied: importlib-resources>=3.2.0 in /home/jail/dlusers/kdesoto/.local/lib/python3.9/site-packages (from matplotlib->snapi==0.1.dev196+g3d286fb) (6.4.5)\n",
      "Requirement already satisfied: kiwisolver>=1.3.1 in /home/jail/dlusers/kdesoto/.local/lib/python3.9/site-packages (from matplotlib->snapi==0.1.dev196+g3d286fb) (1.4.7)\n",
      "Requirement already satisfied: pyparsing>=2.3.1 in /home/jail/dlusers/kdesoto/.local/lib/python3.9/site-packages (from matplotlib->snapi==0.1.dev196+g3d286fb) (3.2.0)\n",
      "Requirement already satisfied: contourpy>=1.0.1 in /home/jail/dlusers/kdesoto/.local/lib/python3.9/site-packages (from matplotlib->snapi==0.1.dev196+g3d286fb) (1.3.0)\n",
      "Requirement already satisfied: python-dateutil>=2.7 in /home/jail/dlusers/kdesoto/.local/lib/python3.9/site-packages (from matplotlib->snapi==0.1.dev196+g3d286fb) (2.9.0.post0)\n",
      "Requirement already satisfied: cycler>=0.10 in /home/jail/dlusers/kdesoto/.local/lib/python3.9/site-packages (from matplotlib->snapi==0.1.dev196+g3d286fb) (0.12.1)\n",
      "Requirement already satisfied: zipp>=3.1.0 in /home/jail/dlusers/kdesoto/.local/lib/python3.9/site-packages (from importlib-resources>=3.2.0->matplotlib->snapi==0.1.dev196+g3d286fb) (3.19.2)\n",
      "Requirement already satisfied: llvmlite<0.44,>=0.43.0dev0 in /home/jail/dlusers/kdesoto/.local/lib/python3.9/site-packages (from numba->snapi==0.1.dev196+g3d286fb) (0.43.0)\n",
      "Requirement already satisfied: pytz>=2020.1 in /usr/lib/python3.9/site-packages (from pandas->snapi==0.1.dev196+g3d286fb) (2021.1)\n",
      "Requirement already satisfied: tzdata>=2022.7 in /home/jail/dlusers/kdesoto/.local/lib/python3.9/site-packages (from pandas->snapi==0.1.dev196+g3d286fb) (2024.1)\n",
      "Requirement already satisfied: types-pytz>=2022.1.1 in /home/jail/dlusers/kdesoto/.local/lib/python3.9/site-packages (from pandas-stubs->snapi==0.1.dev196+g3d286fb) (2024.2.0.20241003)\n",
      "Requirement already satisfied: python-utils>=3.8.1 in /home/jail/dlusers/kdesoto/.local/lib/python3.9/site-packages (from progressbar2->dustmaps->snapi==0.1.dev196+g3d286fb) (3.8.2)\n",
      "Requirement already satisfied: typing-extensions>3.10.0.2 in /home/jail/dlusers/kdesoto/.local/lib/python3.9/site-packages (from python-utils>=3.8.1->progressbar2->dustmaps->snapi==0.1.dev196+g3d286fb) (4.12.1)\n",
      "Requirement already satisfied: scikit-learn>=1.2.0 in /home/jail/dlusers/kdesoto/.local/lib/python3.9/site-packages (from pyts->snapi==0.1.dev196+g3d286fb) (1.5.0)\n",
      "Requirement already satisfied: joblib>=1.1.1 in /home/jail/dlusers/kdesoto/.local/lib/python3.9/site-packages (from pyts->snapi==0.1.dev196+g3d286fb) (1.4.2)\n",
      "Requirement already satisfied: threadpoolctl>=3.1.0 in /home/jail/dlusers/kdesoto/.local/lib/python3.9/site-packages (from scikit-learn>=1.2.0->pyts->snapi==0.1.dev196+g3d286fb) (3.5.0)\n",
      "Requirement already satisfied: urllib3<1.27,>=1.21.1 in /usr/lib/python3.9/site-packages (from requests->snapi==0.1.dev196+g3d286fb) (1.26.5)\n",
      "Requirement already satisfied: idna<3,>=2.5 in /usr/lib/python3.9/site-packages (from requests->snapi==0.1.dev196+g3d286fb) (2.10)\n",
      "Requirement already satisfied: chardet<5,>=3.0.2 in /usr/lib/python3.9/site-packages (from requests->snapi==0.1.dev196+g3d286fb) (4.0.0)\n",
      "Requirement already satisfied: numexpr>=2.6.2 in /home/jail/dlusers/kdesoto/.local/lib/python3.9/site-packages (from tables->snapi==0.1.dev196+g3d286fb) (2.10.2)\n",
      "Requirement already satisfied: py-cpuinfo in /home/jail/dlusers/kdesoto/.local/lib/python3.9/site-packages (from tables->snapi==0.1.dev196+g3d286fb) (9.0.0)\n",
      "Requirement already satisfied: blosc2>=2.3.0 in /home/jail/dlusers/kdesoto/.local/lib/python3.9/site-packages (from tables->snapi==0.1.dev196+g3d286fb) (2.5.1)\n",
      "Requirement already satisfied: msgpack in /home/jail/dlusers/kdesoto/.local/lib/python3.9/site-packages (from blosc2>=2.3.0->tables->snapi==0.1.dev196+g3d286fb) (1.1.0)\n",
      "Requirement already satisfied: ndindex>=1.4 in /home/jail/dlusers/kdesoto/.local/lib/python3.9/site-packages (from blosc2>=2.3.0->tables->snapi==0.1.dev196+g3d286fb) (1.9.2)\n",
      "Requirement already satisfied: types-urllib3 in /home/jail/dlusers/kdesoto/.local/lib/python3.9/site-packages (from types-requests->snapi==0.1.dev196+g3d286fb) (1.26.25.14)\n",
      "Building wheels for collected packages: snapi\n",
      "  Building wheel for snapi (PEP 517): started\n",
      "  Building wheel for snapi (PEP 517): finished with status 'done'\n",
      "  Created wheel for snapi: filename=snapi-0.1.dev196+g3d286fb-py3-none-any.whl size=65473 sha256=3e5380a8582df479b7522f2d076a0f210662a318b6f9ec74ca098eba049520b7\n",
      "  Stored in directory: /tmp/pip-ephem-wheel-cache-u_q2szi2/wheels/5a/42/58/179e82f2cf15594ec1c1972f1ff626731f22f6153c403f89e4\n",
      "Successfully built snapi\n"
     ]
    },
    {
     "name": "stderr",
     "output_type": "stream",
     "text": [
      "WARNING: Ignoring invalid distribution -rotobuf (/home/jail/dlusers/kdesoto/.local/lib/python3.9/site-packages)\n"
     ]
    },
    {
     "name": "stdout",
     "output_type": "stream",
     "text": [
      "Installing collected packages: snapi\n",
      "  Attempting uninstall: snapi\n",
      "    Found existing installation: snapi 0.1.dev193+gb9d3d15\n",
      "    Uninstalling snapi-0.1.dev193+gb9d3d15:\n",
      "      Successfully uninstalled snapi-0.1.dev193+gb9d3d15\n"
     ]
    },
    {
     "name": "stderr",
     "output_type": "stream",
     "text": [
      "    WARNING: Ignoring invalid distribution -rotobuf (/home/jail/dlusers/kdesoto/.local/lib/python3.9/site-packages)\n",
      "  WARNING: Value for scheme.platlib does not match. Please report this to <https://github.com/pypa/pip/issues/10151>\n",
      "  distutils: /home/jail/dlusers/kdesoto/.local/lib/python3.9/site-packages\n",
      "  sysconfig: /home/jail/dlusers/kdesoto/.local/lib64/python3.9/site-packages\n",
      "  WARNING: Additional context:\n",
      "  user = True\n",
      "  home = None\n",
      "  root = None\n",
      "  prefix = None\n",
      "WARNING: Ignoring invalid distribution -rotobuf (/home/jail/dlusers/kdesoto/.local/lib/python3.9/site-packages)\n",
      "WARNING: Ignoring invalid distribution -rotobuf (/home/jail/dlusers/kdesoto/.local/lib/python3.9/site-packages)\n",
      "WARNING: Ignoring invalid distribution -rotobuf (/home/jail/dlusers/kdesoto/.local/lib/python3.9/site-packages)\n",
      "WARNING: Ignoring invalid distribution -rotobuf (/home/jail/dlusers/kdesoto/.local/lib/python3.9/site-packages)\n"
     ]
    },
    {
     "name": "stdout",
     "output_type": "stream",
     "text": [
      "Successfully installed snapi-0.1.dev196+g3d286fb\n",
      "Defaulting to user installation because normal site-packages is not writeable\n",
      "Collecting git+https://github.com/VTDA-Group/superphot-plus.git@main\n",
      "  Cloning https://github.com/VTDA-Group/superphot-plus.git (to revision main) to /tmp/pip-req-build-9tzk15hs\n"
     ]
    },
    {
     "name": "stderr",
     "output_type": "stream",
     "text": [
      "WARNING: Ignoring invalid distribution -rotobuf (/home/jail/dlusers/kdesoto/.local/lib/python3.9/site-packages)\n",
      "WARNING: Ignoring invalid distribution -rotobuf (/home/jail/dlusers/kdesoto/.local/lib/python3.9/site-packages)\n",
      "  Running command git clone -q https://github.com/VTDA-Group/superphot-plus.git /tmp/pip-req-build-9tzk15hs\n"
     ]
    },
    {
     "name": "stdout",
     "output_type": "stream",
     "text": [
      "  Resolved https://github.com/VTDA-Group/superphot-plus.git to commit a3d0dd20618dbb8ef923a99e531b841e59205cd2\n",
      "  Installing build dependencies: started\n",
      "  Installing build dependencies: finished with status 'done'\n",
      "  Getting requirements to build wheel: started\n",
      "  Getting requirements to build wheel: finished with status 'done'\n",
      "    Preparing wheel metadata: started\n",
      "    Preparing wheel metadata: finished with status 'done'\n",
      "Requirement already satisfied: joblib>=1.4.0 in /home/jail/dlusers/kdesoto/.local/lib/python3.9/site-packages (from superphot-plus==0.0.9.dev37+ga3d0dd2) (1.4.2)\n",
      "Requirement already satisfied: tensorboard>=2.14.0 in /home/jail/dlusers/kdesoto/.local/lib/python3.9/site-packages (from superphot-plus==0.0.9.dev37+ga3d0dd2) (2.16.2)\n",
      "Requirement already satisfied: astropy in /home/jail/dlusers/kdesoto/.local/lib/python3.9/site-packages (from superphot-plus==0.0.9.dev37+ga3d0dd2) (6.0.1)\n",
      "Requirement already satisfied: numpy<1.26.3 in /home/jail/dlusers/kdesoto/.local/lib/python3.9/site-packages (from superphot-plus==0.0.9.dev37+ga3d0dd2) (1.23.5)\n",
      "Requirement already satisfied: lightgbm>=4.3.0 in /home/jail/dlusers/kdesoto/.local/lib/python3.9/site-packages (from superphot-plus==0.0.9.dev37+ga3d0dd2) (4.3.0)\n",
      "Requirement already satisfied: tensorflow_probability>=0.21.0 in /home/jail/dlusers/kdesoto/.local/lib/python3.9/site-packages (from superphot-plus==0.0.9.dev37+ga3d0dd2) (0.24.0)\n",
      "Requirement already satisfied: torch>=2.0.0 in /home/jail/dlusers/kdesoto/.local/lib/python3.9/site-packages (from superphot-plus==0.0.9.dev37+ga3d0dd2) (2.3.0)\n",
      "Requirement already satisfied: scikit-learn>=1.3.2 in /home/jail/dlusers/kdesoto/.local/lib/python3.9/site-packages (from superphot-plus==0.0.9.dev37+ga3d0dd2) (1.5.0)\n",
      "Requirement already satisfied: pandas>=2.0.0 in /home/jail/dlusers/kdesoto/.local/lib/python3.9/site-packages (from superphot-plus==0.0.9.dev37+ga3d0dd2) (2.2.2)\n",
      "Requirement already satisfied: scipy in /home/jail/dlusers/kdesoto/.local/lib/python3.9/site-packages (from lightgbm>=4.3.0->superphot-plus==0.0.9.dev37+ga3d0dd2) (1.13.1)\n",
      "Requirement already satisfied: pytz>=2020.1 in /usr/lib/python3.9/site-packages (from pandas>=2.0.0->superphot-plus==0.0.9.dev37+ga3d0dd2) (2021.1)\n",
      "Requirement already satisfied: tzdata>=2022.7 in /home/jail/dlusers/kdesoto/.local/lib/python3.9/site-packages (from pandas>=2.0.0->superphot-plus==0.0.9.dev37+ga3d0dd2) (2024.1)\n",
      "Requirement already satisfied: python-dateutil>=2.8.2 in /home/jail/dlusers/kdesoto/.local/lib/python3.9/site-packages (from pandas>=2.0.0->superphot-plus==0.0.9.dev37+ga3d0dd2) (2.9.0.post0)\n",
      "Requirement already satisfied: six>=1.5 in /usr/lib/python3.9/site-packages (from python-dateutil>=2.8.2->pandas>=2.0.0->superphot-plus==0.0.9.dev37+ga3d0dd2) (1.15.0)\n",
      "Requirement already satisfied: threadpoolctl>=3.1.0 in /home/jail/dlusers/kdesoto/.local/lib/python3.9/site-packages (from scikit-learn>=1.3.2->superphot-plus==0.0.9.dev37+ga3d0dd2) (3.5.0)\n",
      "Requirement already satisfied: markdown>=2.6.8 in /home/jail/dlusers/kdesoto/.local/lib/python3.9/site-packages (from tensorboard>=2.14.0->superphot-plus==0.0.9.dev37+ga3d0dd2) (3.6)\n",
      "Requirement already satisfied: absl-py>=0.4 in /home/jail/dlusers/kdesoto/.local/lib/python3.9/site-packages (from tensorboard>=2.14.0->superphot-plus==0.0.9.dev37+ga3d0dd2) (2.1.0)\n",
      "Requirement already satisfied: werkzeug>=1.0.1 in /home/jail/dlusers/kdesoto/.local/lib/python3.9/site-packages (from tensorboard>=2.14.0->superphot-plus==0.0.9.dev37+ga3d0dd2) (3.0.3)\n",
      "Requirement already satisfied: tensorboard-data-server<0.8.0,>=0.7.0 in /home/jail/dlusers/kdesoto/.local/lib/python3.9/site-packages (from tensorboard>=2.14.0->superphot-plus==0.0.9.dev37+ga3d0dd2) (0.7.2)\n",
      "Requirement already satisfied: setuptools>=41.0.0 in /usr/lib/python3.9/site-packages (from tensorboard>=2.14.0->superphot-plus==0.0.9.dev37+ga3d0dd2) (53.0.0)\n",
      "Requirement already satisfied: grpcio>=1.48.2 in /home/jail/dlusers/kdesoto/.local/lib/python3.9/site-packages (from tensorboard>=2.14.0->superphot-plus==0.0.9.dev37+ga3d0dd2) (1.64.1)\n",
      "Requirement already satisfied: protobuf!=4.24.0,>=3.19.6 in /home/jail/dlusers/kdesoto/.local/lib/python3.9/site-packages (from tensorboard>=2.14.0->superphot-plus==0.0.9.dev37+ga3d0dd2) (4.25.3)\n",
      "Requirement already satisfied: importlib-metadata>=4.4 in /home/jail/dlusers/kdesoto/.local/lib/python3.9/site-packages (from markdown>=2.6.8->tensorboard>=2.14.0->superphot-plus==0.0.9.dev37+ga3d0dd2) (7.1.0)\n",
      "Requirement already satisfied: zipp>=0.5 in /home/jail/dlusers/kdesoto/.local/lib/python3.9/site-packages (from importlib-metadata>=4.4->markdown>=2.6.8->tensorboard>=2.14.0->superphot-plus==0.0.9.dev37+ga3d0dd2) (3.19.2)\n",
      "Requirement already satisfied: cloudpickle>=1.3 in /home/jail/dlusers/kdesoto/.local/lib/python3.9/site-packages (from tensorflow_probability>=0.21.0->superphot-plus==0.0.9.dev37+ga3d0dd2) (3.0.0)\n",
      "Requirement already satisfied: decorator in /home/jail/dlusers/kdesoto/.local/lib/python3.9/site-packages (from tensorflow_probability>=0.21.0->superphot-plus==0.0.9.dev37+ga3d0dd2) (5.1.1)\n",
      "Requirement already satisfied: gast>=0.3.2 in /home/jail/dlusers/kdesoto/.local/lib/python3.9/site-packages (from tensorflow_probability>=0.21.0->superphot-plus==0.0.9.dev37+ga3d0dd2) (0.5.4)\n",
      "Requirement already satisfied: dm-tree in /home/jail/dlusers/kdesoto/.local/lib/python3.9/site-packages (from tensorflow_probability>=0.21.0->superphot-plus==0.0.9.dev37+ga3d0dd2) (0.1.8)\n",
      "Requirement already satisfied: jinja2 in /home/jail/dlusers/kdesoto/.local/lib/python3.9/site-packages (from torch>=2.0.0->superphot-plus==0.0.9.dev37+ga3d0dd2) (3.1.4)\n",
      "Requirement already satisfied: nvidia-cufft-cu12==11.0.2.54 in /home/jail/dlusers/kdesoto/.local/lib/python3.9/site-packages (from torch>=2.0.0->superphot-plus==0.0.9.dev37+ga3d0dd2) (11.0.2.54)\n",
      "Requirement already satisfied: nvidia-cusolver-cu12==11.4.5.107 in /home/jail/dlusers/kdesoto/.local/lib/python3.9/site-packages (from torch>=2.0.0->superphot-plus==0.0.9.dev37+ga3d0dd2) (11.4.5.107)\n",
      "Requirement already satisfied: sympy in /home/jail/dlusers/kdesoto/.local/lib/python3.9/site-packages (from torch>=2.0.0->superphot-plus==0.0.9.dev37+ga3d0dd2) (1.12.1)\n",
      "Requirement already satisfied: fsspec in /home/jail/dlusers/kdesoto/.local/lib/python3.9/site-packages (from torch>=2.0.0->superphot-plus==0.0.9.dev37+ga3d0dd2) (2024.6.0)\n",
      "Requirement already satisfied: typing-extensions>=4.8.0 in /home/jail/dlusers/kdesoto/.local/lib/python3.9/site-packages (from torch>=2.0.0->superphot-plus==0.0.9.dev37+ga3d0dd2) (4.12.1)\n",
      "Requirement already satisfied: nvidia-nvtx-cu12==12.1.105 in /home/jail/dlusers/kdesoto/.local/lib/python3.9/site-packages (from torch>=2.0.0->superphot-plus==0.0.9.dev37+ga3d0dd2) (12.1.105)\n",
      "Requirement already satisfied: triton==2.3.0 in /home/jail/dlusers/kdesoto/.local/lib/python3.9/site-packages (from torch>=2.0.0->superphot-plus==0.0.9.dev37+ga3d0dd2) (2.3.0)\n",
      "Requirement already satisfied: networkx in /home/jail/dlusers/kdesoto/.local/lib/python3.9/site-packages (from torch>=2.0.0->superphot-plus==0.0.9.dev37+ga3d0dd2) (3.2.1)\n",
      "Requirement already satisfied: nvidia-curand-cu12==10.3.2.106 in /home/jail/dlusers/kdesoto/.local/lib/python3.9/site-packages (from torch>=2.0.0->superphot-plus==0.0.9.dev37+ga3d0dd2) (10.3.2.106)\n",
      "Requirement already satisfied: nvidia-cusparse-cu12==12.1.0.106 in /home/jail/dlusers/kdesoto/.local/lib/python3.9/site-packages (from torch>=2.0.0->superphot-plus==0.0.9.dev37+ga3d0dd2) (12.1.0.106)\n",
      "Requirement already satisfied: nvidia-cuda-cupti-cu12==12.1.105 in /home/jail/dlusers/kdesoto/.local/lib/python3.9/site-packages (from torch>=2.0.0->superphot-plus==0.0.9.dev37+ga3d0dd2) (12.1.105)\n",
      "Requirement already satisfied: nvidia-cuda-runtime-cu12==12.1.105 in /home/jail/dlusers/kdesoto/.local/lib/python3.9/site-packages (from torch>=2.0.0->superphot-plus==0.0.9.dev37+ga3d0dd2) (12.1.105)\n",
      "Requirement already satisfied: nvidia-cublas-cu12==12.1.3.1 in /home/jail/dlusers/kdesoto/.local/lib/python3.9/site-packages (from torch>=2.0.0->superphot-plus==0.0.9.dev37+ga3d0dd2) (12.1.3.1)\n",
      "Requirement already satisfied: filelock in /home/jail/dlusers/kdesoto/.local/lib/python3.9/site-packages (from torch>=2.0.0->superphot-plus==0.0.9.dev37+ga3d0dd2) (3.14.0)\n",
      "Requirement already satisfied: nvidia-cudnn-cu12==8.9.2.26 in /home/jail/dlusers/kdesoto/.local/lib/python3.9/site-packages (from torch>=2.0.0->superphot-plus==0.0.9.dev37+ga3d0dd2) (8.9.2.26)\n",
      "Requirement already satisfied: nvidia-cuda-nvrtc-cu12==12.1.105 in /home/jail/dlusers/kdesoto/.local/lib/python3.9/site-packages (from torch>=2.0.0->superphot-plus==0.0.9.dev37+ga3d0dd2) (12.1.105)\n",
      "Requirement already satisfied: nvidia-nccl-cu12==2.20.5 in /home/jail/dlusers/kdesoto/.local/lib/python3.9/site-packages (from torch>=2.0.0->superphot-plus==0.0.9.dev37+ga3d0dd2) (2.20.5)\n",
      "Requirement already satisfied: nvidia-nvjitlink-cu12 in /home/jail/dlusers/kdesoto/.local/lib/python3.9/site-packages (from nvidia-cusolver-cu12==11.4.5.107->torch>=2.0.0->superphot-plus==0.0.9.dev37+ga3d0dd2) (12.5.40)\n",
      "Requirement already satisfied: MarkupSafe>=2.1.1 in /home/jail/dlusers/kdesoto/.local/lib/python3.9/site-packages (from werkzeug>=1.0.1->tensorboard>=2.14.0->superphot-plus==0.0.9.dev37+ga3d0dd2) (2.1.5)\n",
      "Requirement already satisfied: PyYAML>=3.13 in /usr/lib64/python3.9/site-packages (from astropy->superphot-plus==0.0.9.dev37+ga3d0dd2) (5.4.1)\n",
      "Requirement already satisfied: pyerfa>=2.0.1.1 in /home/jail/dlusers/kdesoto/.local/lib/python3.9/site-packages (from astropy->superphot-plus==0.0.9.dev37+ga3d0dd2) (2.0.1.4)\n",
      "Requirement already satisfied: packaging>=19.0 in /home/jail/dlusers/kdesoto/.local/lib/python3.9/site-packages (from astropy->superphot-plus==0.0.9.dev37+ga3d0dd2) (24.0)\n",
      "Requirement already satisfied: astropy-iers-data>=0.2024.2.26.0.28.55 in /home/jail/dlusers/kdesoto/.local/lib/python3.9/site-packages (from astropy->superphot-plus==0.0.9.dev37+ga3d0dd2) (0.2024.6.3.0.31.14)\n",
      "Requirement already satisfied: mpmath<1.4.0,>=1.1.0 in /home/jail/dlusers/kdesoto/.local/lib/python3.9/site-packages (from sympy->torch>=2.0.0->superphot-plus==0.0.9.dev37+ga3d0dd2) (1.3.0)\n",
      "Building wheels for collected packages: superphot-plus\n",
      "  Building wheel for superphot-plus (PEP 517): started\n",
      "  Building wheel for superphot-plus (PEP 517): finished with status 'done'\n",
      "  Created wheel for superphot-plus: filename=superphot_plus-0.0.9.dev37+ga3d0dd2-py3-none-any.whl size=81680 sha256=0c79bfca748c7cb93534769118b6d6d1b80c8efd0a3456aa065b09389236d381\n",
      "  Stored in directory: /tmp/pip-ephem-wheel-cache-umm0jlu4/wheels/9e/83/d5/d278f5d4d65efadc83bffdf88fdd6b3da9b3b764ab385fd365\n",
      "Successfully built superphot-plus\n"
     ]
    },
    {
     "name": "stderr",
     "output_type": "stream",
     "text": [
      "WARNING: Ignoring invalid distribution -rotobuf (/home/jail/dlusers/kdesoto/.local/lib/python3.9/site-packages)\n"
     ]
    },
    {
     "name": "stdout",
     "output_type": "stream",
     "text": [
      "Installing collected packages: superphot-plus\n",
      "  Attempting uninstall: superphot-plus\n",
      "    Found existing installation: superphot-plus 0.0.9.dev35+g47bac84\n",
      "    Uninstalling superphot-plus-0.0.9.dev35+g47bac84:\n"
     ]
    },
    {
     "name": "stderr",
     "output_type": "stream",
     "text": [
      "    WARNING: Ignoring invalid distribution -rotobuf (/home/jail/dlusers/kdesoto/.local/lib/python3.9/site-packages)\n"
     ]
    },
    {
     "name": "stdout",
     "output_type": "stream",
     "text": [
      "      Successfully uninstalled superphot-plus-0.0.9.dev35+g47bac84\n"
     ]
    },
    {
     "name": "stderr",
     "output_type": "stream",
     "text": [
      "  WARNING: Value for scheme.platlib does not match. Please report this to <https://github.com/pypa/pip/issues/10151>\n",
      "  distutils: /home/jail/dlusers/kdesoto/.local/lib/python3.9/site-packages\n",
      "  sysconfig: /home/jail/dlusers/kdesoto/.local/lib64/python3.9/site-packages\n",
      "  WARNING: Additional context:\n",
      "  user = True\n",
      "  home = None\n",
      "  root = None\n",
      "  prefix = None\n",
      "WARNING: Ignoring invalid distribution -rotobuf (/home/jail/dlusers/kdesoto/.local/lib/python3.9/site-packages)\n",
      "WARNING: Ignoring invalid distribution -rotobuf (/home/jail/dlusers/kdesoto/.local/lib/python3.9/site-packages)\n",
      "WARNING: Ignoring invalid distribution -rotobuf (/home/jail/dlusers/kdesoto/.local/lib/python3.9/site-packages)\n",
      "WARNING: Ignoring invalid distribution -rotobuf (/home/jail/dlusers/kdesoto/.local/lib/python3.9/site-packages)\n"
     ]
    },
    {
     "name": "stdout",
     "output_type": "stream",
     "text": [
      "Successfully installed superphot-plus-0.0.9.dev37+ga3d0dd2\n",
      "Package                  Version\n",
      "------------------------ --------------------\n",
      "absl-py                  2.1.0\n",
      "astropy                  6.0.1\n",
      "astropy-iers-data        0.2024.6.3.0.31.14\n",
      "blinker                  1.8.2\n",
      "blosc2                   2.5.1\n",
      "click                    8.1.7\n",
      "cloudpickle              3.0.0\n",
      "colorcet                 3.1.0\n",
      "contourpy                1.3.0\n",
      "cycler                   0.12.1\n",
      "decorator                5.1.1\n",
      "dill                     0.3.9\n",
      "dm-tree                  0.1.8\n",
      "dustmaps                 1.0.13\n",
      "extinction               0.4.6\n",
      "filelock                 3.14.0\n",
      "Flask                    3.0.3\n",
      "fonttools                4.55.2\n",
      "fsspec                   2024.6.0\n",
      "gast                     0.5.4\n",
      "george                   0.4.3\n",
      "grpcio                   1.64.1\n",
      "h5py                     3.11.0\n",
      "healpy                   1.17.1\n",
      "importlib_metadata       7.1.0\n",
      "importlib_resources      6.4.5\n",
      "itsdangerous             2.2.0\n",
      "jax                      0.4.26\n",
      "jaxlib                   0.4.26\n",
      "Jinja2                   3.1.4\n",
      "joblib                   1.4.2\n",
      "kiwisolver               1.4.7\n",
      "lightgbm                 4.3.0\n",
      "llvmlite                 0.43.0\n",
      "Markdown                 3.6\n",
      "MarkupSafe               2.1.5\n",
      "matplotlib               3.9.3\n",
      "ml-dtypes                0.4.0\n",
      "mpmath                   1.3.0\n",
      "msgpack                  1.1.0\n",
      "multipledispatch         1.0.0\n",
      "multiprocess             0.70.17\n",
      "ndindex                  1.9.2\n",
      "networkx                 3.2.1\n",
      "numba                    0.60.0\n",
      "numexpr                  2.10.2\n",
      "numpy                    1.23.5\n",
      "numpyro                  0.15.0\n",
      "nvidia-cublas-cu12       12.1.3.1\n",
      "nvidia-cuda-cupti-cu12   12.1.105\n",
      "nvidia-cuda-nvrtc-cu12   12.1.105\n",
      "nvidia-cuda-runtime-cu12 12.1.105\n",
      "nvidia-cudnn-cu12        8.9.2.26\n",
      "nvidia-cufft-cu12        11.0.2.54\n",
      "nvidia-curand-cu12       10.3.2.106\n",
      "nvidia-cusolver-cu12     11.4.5.107\n",
      "nvidia-cusparse-cu12     12.1.0.106\n",
      "nvidia-nccl-cu12         2.20.5\n",
      "nvidia-nvjitlink-cu12    12.5.40\n",
      "nvidia-nvtx-cu12         12.1.105\n",
      "opt-einsum               3.3.0\n",
      "packaging                24.0\n",
      "pandas                   2.2.2\n",
      "pandas-stubs             2.2.2.240807\n",
      "pillow                   11.0.0\n",
      "progressbar2             4.4.2\n",
      "proto-plus               1.24.0.dev1\n",
      "protobuf                 4.25.3\n",
      "py-cpuinfo               9.0.0\n",
      "pyarrow                  18.1.0\n",
      "pyerfa                   2.0.1.4\n",
      "pyparsing                3.2.0\n",
      "python-dateutil          2.9.0.post0\n",
      "python-dotenv            1.0.1\n",
      "python-utils             3.8.2\n",
      "pyts                     0.13.0\n",
      "scikit-learn             1.5.0\n",
      "scipy                    1.13.1\n",
      "snapi                    0.1.dev196+g3d286fb\n",
      "superphot-plus           0.0.9.dev37+ga3d0dd2\n",
      "sympy                    1.12.1\n",
      "tables                   3.9.2\n",
      "tensorboard              2.16.2\n",
      "tensorboard-data-server  0.7.2\n",
      "tensorflow-probability   0.24.0\n",
      "threadpoolctl            3.5.0\n",
      "torch                    2.3.0\n",
      "tqdm                     4.66.4\n",
      "triton                   2.3.0\n",
      "types-pytz               2024.2.0.20241003\n",
      "types-requests           2.31.0.6\n",
      "types-urllib3            1.26.25.14\n",
      "typing_extensions        4.12.1\n",
      "tzdata                   2024.1\n",
      "Werkzeug                 3.0.3\n",
      "zipp                     3.19.2\n",
      "/usr/bin/python3.9\n",
      "Python 3.9.18\n"
     ]
    },
    {
     "name": "stderr",
     "output_type": "stream",
     "text": [
      "\u001b[33mWARNING: Ignoring invalid distribution -rotobuf (/home/jail/dlusers/kdesoto/.local/lib/python3.9/site-packages)\u001b[0m\u001b[33m\n",
      "\u001b[0m"
     ]
    },
    {
     "data": {
      "text/plain": [
       "0"
      ]
     },
     "execution_count": 2,
     "metadata": {},
     "output_type": "execute_result"
    }
   ],
   "source": [
    "import sys\n",
    "import os\n",
    "import shutil\n",
    "import subprocess\n",
    "import glob\n",
    "\n",
    "import site\n",
    "print(site.getusersitepackages())\n",
    "\n",
    "print(os.getcwd())\n",
    "#subprocess.check_call('rm -rf /home/jail/dlusers/kdesoto/tmp', shell=True)\n",
    "#subprocess.check_call('find /home/jail/dlusers/kdesoto/.local/lib/python3.8/site-packages -type f -exec touch {} \\;', shell=True)\n",
    "#subprocess.check_call('find /home/jail/dlusers/kdesoto/.local/lib/python3.9/site-packages -type f -exec touch {} \\;', shell=True)\n",
    "#subprocess.check_call('du -h /dlusers/kdesoto/.local/bin | sort -rh', shell=True)\n",
    "#subprocess.check_call([sys.executable, '-mpip', 'cache', 'purge'])\n",
    "#subprocess.check_call([sys.executable, '-mpip', 'uninstall', '--yes', 'jax'])\n",
    "#subprocess.check_call([sys.executable, '-mpip', 'install', '-U', '--target=/data0/sw.tmpfs/antares-kernel/lib/python3.9/site-packages', 'pip'])\n",
    "subprocess.check_call(['python3.9', '-mpip', 'install', '-U','git+https://github.com/kdesoto-astro/snapi.git@main'])\n",
    "subprocess.check_call(['python3.9', '-mpip', 'install', '-U','git+https://github.com/VTDA-Group/superphot-plus.git@main'])\n",
    "#subprocess.check_call(['python3.9', '-mpip', 'install', '-U','proto-plus==1.24.0.dev1'])\n",
    "#subprocess.check_call(['python3.9', '-mpip', 'install', '-U', 'Flask==3.0.3'])\n",
    "#subprocess.check_call(['pip', 'install', '-U', 'lightgbm'])\n",
    "#subprocess.check_call(['pip', 'install', '-U', 'dynesty'])\n",
    "#subprocess.check_call(['python3.9', '-mpip', 'uninstall', 'numpy', '--yes'])\n",
    "#subprocess.check_call(['python3.9', '-mpip', 'uninstall', 'scipy', '--yes'])\n",
    "#subprocess.check_call(['python3.9', '-mpip', 'install', '-U', '--target=/home/jail/dlusers/kdesoto/.local/lib/python3.9/site-packages', 'numpy==1.26.2', 'scipy', 'numpyro'])\n",
    "#subprocess.check_call(['pip', 'install', '-U', '--target=/home/jail/dlusers/kdesoto/.local/lib/python3.9/site-packages', 'jaxlib==0.4.26'])\n",
    "\n",
    "#subprocess.check_call(['pip', 'install', '-U', 'jax==0.4.26'])\n",
    "#subprocess.check_call(['pip', 'install', '-U', 'jaxlib==0.4.26'])\n",
    "subprocess.check_call(['pip', 'list', '--path', '/home/jail/dlusers/kdesoto/.local/lib/python3.9/site-packages/'])\n",
    "subprocess.check_call(['which', 'python3.9'])\n",
    "subprocess.check_call(['python3.9', '--version'])\n"
   ]
  },
  {
   "cell_type": "markdown",
   "id": "547534d7-6233-44d2-a08e-8651e4789314",
   "metadata": {},
   "source": [
    "## Start running here"
   ]
  },
  {
   "cell_type": "code",
   "execution_count": 1,
   "id": "f525348e-8367-4c59-80af-a5ea32d9a3f8",
   "metadata": {
    "execution": {
     "iopub.execute_input": "2024-12-09T16:30:07.729888Z",
     "iopub.status.busy": "2024-12-09T16:30:07.729596Z",
     "iopub.status.idle": "2024-12-09T16:30:15.312492Z",
     "shell.execute_reply": "2024-12-09T16:30:15.311326Z",
     "shell.execute_reply.started": "2024-12-09T16:30:07.729862Z"
    },
    "tags": []
   },
   "outputs": [
    {
     "name": "stdout",
     "output_type": "stream",
     "text": [
      "Loading ANTARES from /data0/sw/antares-kernel/lib/python3.9/site-packages/antares/__init__.py\n",
      "\n",
      "        _    _   _ _____  _    ____  _____ ____\n",
      "       / \\  | \\ | |_   _|/ \\  |  _ \\| ____/ ___|\n",
      "      / _ \\ |  \\| | | | / _ \\ | |_| |  _| \\___ \\\\\n",
      "     / ___ \\| |\\  | | |/ ___ \\|  _ /| |___ ___| |\n",
      "    /_/   \\_\\_| \\_| |_/_/   \\_\\_| \\_\\_____|____/   v2.11.0\n",
      "    \n"
     ]
    },
    {
     "name": "stderr",
     "output_type": "stream",
     "text": [
      "Jaeger tracer already initialized, skipping\n"
     ]
    },
    {
     "name": "stdout",
     "output_type": "stream",
     "text": [
      "2024-12-09 09:30:09,190 - WARNING MainThread settings.py:setup_prometheus:124 - Prometheus failed to start with [Errno 98] Address already in use\n",
      "Testing loading a random Locus with `dk.get_locus()`...\n",
      "\n",
      "ANTARES v2.11.0 DevKit is ready!\n",
      "Website: https://antares.noirlab.edu\n",
      "Documentation: https://nsf-noirlab.gitlab.io/csdc/antares/antares/\n",
      "\n"
     ]
    }
   ],
   "source": [
    "import antares.devkit as dk\n",
    "dk.init()"
   ]
  },
  {
   "cell_type": "code",
   "execution_count": 2,
   "id": "55c3eb1c-318a-4847-887c-00747ee0d79b",
   "metadata": {
    "execution": {
     "iopub.execute_input": "2024-12-09T16:30:15.314407Z",
     "iopub.status.busy": "2024-12-09T16:30:15.314105Z",
     "iopub.status.idle": "2024-12-09T16:30:15.350182Z",
     "shell.execute_reply": "2024-12-09T16:30:15.349331Z",
     "shell.execute_reply.started": "2024-12-09T16:30:15.314389Z"
    }
   },
   "outputs": [],
   "source": [
    "%%bash\n",
    "export PATH=\"/usr/bin/python3.9/site-packages/:/home/jail/dlusers/kdesoto/.local/lib/python3.9/site-packages/:$PATH\"\n",
    "export PYTHONPATH=\"/usr/bin/python3.9/site-packages/:/home/jail/dlusers/kdesoto/.local/lib/python3.9/site-packages/:$PYTHONPATH\""
   ]
  },
  {
   "cell_type": "code",
   "execution_count": 3,
   "id": "899da385-1668-4946-b454-855230260470",
   "metadata": {
    "execution": {
     "iopub.execute_input": "2024-12-09T16:30:15.351428Z",
     "iopub.status.busy": "2024-12-09T16:30:15.351262Z",
     "iopub.status.idle": "2024-12-09T16:30:15.358961Z",
     "shell.execute_reply": "2024-12-09T16:30:15.358216Z",
     "shell.execute_reply.started": "2024-12-09T16:30:15.351411Z"
    }
   },
   "outputs": [
    {
     "data": {
      "text/plain": [
       "['/usr/bin/python3.9/site-packages/',\n",
       " '/home/jail/dlusers/kdesoto/.local/lib/python3.9/site-packages',\n",
       " '/home/jail/dlusers/kdesoto/notebooks/ztf_filter',\n",
       " '/data0/sw/antares-kernel/lib/python39.zip',\n",
       " '/data0/sw/antares-kernel/lib/python3.9',\n",
       " '/data0/sw/antares-kernel/lib/python3.9/lib-dynload',\n",
       " '',\n",
       " '/home/jail/dlusers/kdesoto/.local/lib/python3.9/site-packages',\n",
       " '/data0/sw/antares-kernel/lib/python3.9/site-packages']"
      ]
     },
     "execution_count": 3,
     "metadata": {},
     "output_type": "execute_result"
    }
   ],
   "source": [
    "import sys\n",
    "sys.path.insert(0, '/home/jail/dlusers/kdesoto/.local/lib/python3.9/site-packages')\n",
    "sys.path.insert(0, '/usr/bin/python3.9/site-packages/')\n",
    "sys.path"
   ]
  },
  {
   "cell_type": "code",
   "execution_count": 4,
   "id": "2a9e8e16-4288-47ae-8c4d-45fb5a0d594f",
   "metadata": {
    "execution": {
     "iopub.execute_input": "2024-12-09T16:30:15.360885Z",
     "iopub.status.busy": "2024-12-09T16:30:15.360367Z",
     "iopub.status.idle": "2024-12-09T16:30:18.517378Z",
     "shell.execute_reply": "2024-12-09T16:30:18.516415Z",
     "shell.execute_reply.started": "2024-12-09T16:30:15.360867Z"
    },
    "tags": []
   },
   "outputs": [
    {
     "name": "stderr",
     "output_type": "stream",
     "text": [
      "Span has already been finished; will not be reported again.\n",
      "Span has already been finished; will not be reported again.\n"
     ]
    }
   ],
   "source": [
    "try:\n",
    "    dk.upload_file(key='superphot_plus_lightgbm_12_2024_v3.pt', file_path='./model_superphot_svi_LightGBM_full_12_2024.pt')\n",
    "except:\n",
    "    pass\n",
    "try:\n",
    "    dk.upload_file(key='superphot_plus_early_lightgbm_12_2024_v3.pt', file_path='./model_superphot_svi_LightGBM_early_12_2024.pt')\n",
    "except:\n",
    "    pass"
   ]
  },
  {
   "cell_type": "code",
   "execution_count": 5,
   "id": "a73affff-3043-4fa6-91e0-febf44030ec6",
   "metadata": {
    "execution": {
     "iopub.execute_input": "2024-12-09T16:30:18.519110Z",
     "iopub.status.busy": "2024-12-09T16:30:18.518466Z",
     "iopub.status.idle": "2024-12-09T16:30:56.335571Z",
     "shell.execute_reply": "2024-12-09T16:30:56.334826Z",
     "shell.execute_reply.started": "2024-12-09T16:30:18.519088Z"
    },
    "tags": []
   },
   "outputs": [
    {
     "name": "stderr",
     "output_type": "stream",
     "text": [
      "2024-12-09 09:30:21.833246: I tensorflow/core/platform/cpu_feature_guard.cc:210] This TensorFlow binary is optimized to use available CPU instructions in performance-critical operations.\n",
      "To enable the following instructions: AVX2 FMA, in other operations, rebuild TensorFlow with the appropriate compiler flags.\n",
      "2024-12-09 09:30:22.626959: W tensorflow/compiler/tf2tensorrt/utils/py_utils.cc:38] TF-TRT Warning: Could not find TensorRT\n",
      "/data0/sw/antares-kernel/lib/python3.9/site-packages/ddtrace/internal/module.py:224: TqdmWarning: IProgress not found. Please update jupyter and ipywidgets. See https://ipywidgets.readthedocs.io/en/stable/user_install.html\n",
      "  self.loader.exec_module(module)\n",
      "Span has already been finished; will not be reported again.\n",
      "Span has already been finished; will not be reported again.\n"
     ]
    },
    {
     "name": "stdout",
     "output_type": "stream",
     "text": [
      "Downloading SFD data file to /tmp/sfd/SFD_dust_4096_ngp.fits\n",
      "Checking existing file to see if MD5 sum matches ...\n",
      "File exists. Not overwriting.\n",
      "Downloading SFD data file to /tmp/sfd/SFD_dust_4096_sgp.fits\n",
      "Checking existing file to see if MD5 sum matches ...\n",
      "File exists. Not overwriting.\n"
     ]
    },
    {
     "name": "stderr",
     "output_type": "stream",
     "text": [
      "/data0/sw/antares-kernel/lib/python3.9/site-packages/dynesty/dynamicsampler.py:530: RuntimeWarning: All the initial likelihood values are the same. You likely have a plateau in the likelihood. Nested sampling may not be the best sampler in this case.\n",
      "  warnings.warn(\n"
     ]
    }
   ],
   "source": [
    "from superphot_plus_ztf import SuperphotPlusZTF\n",
    "locus_ids = [\n",
    "    'ANT2020ebmfw', # SN Ia, ZTF18aajivpr \n",
    "    'ANT2020r54lw', # SN Ia, ZTF19acyndpl, 2019wqd\n",
    "    'ANT2020k5fpk', # SN IIn, ZTF19acyjviz, 2019wnc\n",
    "    'ANT2020eb6sq', # SN II, ZTF20aatqgeo, 2020fcx\n",
    "    'ANT2020i3aa6', # SLSN-I, ZTF19acgjpgh, 2019unb\n",
    "]\n",
    "report = dk.run_many(SuperphotPlusZTF, locus_ids=locus_ids)"
   ]
  },
  {
   "cell_type": "code",
   "execution_count": 6,
   "id": "bc8f3504-bb27-44d7-9f90-7862d5ccba07",
   "metadata": {
    "execution": {
     "iopub.execute_input": "2024-12-09T16:30:56.336799Z",
     "iopub.status.busy": "2024-12-09T16:30:56.336561Z",
     "iopub.status.idle": "2024-12-09T16:30:56.340057Z",
     "shell.execute_reply": "2024-12-09T16:30:56.339629Z",
     "shell.execute_reply.started": "2024-12-09T16:30:56.336783Z"
    },
    "tags": []
   },
   "outputs": [
    {
     "name": "stdout",
     "output_type": "stream",
     "text": [
      "{'n': 5, 'results': [{'locus_id': 'ANT2020ebmfw', 'locus_data': FilterContext(locus_id=\"ANT2020ebmfw\"), 't': 6.432558229999998, 'new_locus_properties': {'superphot_plus_A_ZTF_r': 1.0643446, 'superphot_plus_beta_ZTF_r': 0.0047422545, 'superphot_plus_gamma_ZTF_r': 10.045852, 'superphot_plus_t_0_ZTF_r': -10.459009, 'superphot_plus_tau_rise_ZTF_r': 1.9381543, 'superphot_plus_tau_fall_ZTF_r': 25.566616, 'superphot_plus_extra_sigma_ZTF_r': 0.018341955, 'superphot_plus_A_ZTF_g': 0.71319306, 'superphot_plus_beta_ZTF_g': -0.009836508, 'superphot_plus_gamma_ZTF_g': 12.963183, 'superphot_plus_t_0_ZTF_g': -11.67635, 'superphot_plus_tau_rise_ZTF_g': 0.9298899, 'superphot_plus_tau_fall_ZTF_g': 14.44873, 'superphot_plus_extra_sigma_ZTF_g': 0.01487305, 'superphot_plus_sampler': 'svi', 'superphot_plus_score': 1.0242617, 'superphot_plus_classifier': 'full_lightgbm_12_2024', 'superphot_plus_class': 'SN Ia', 'superphot_plus_class_prob': 0.871}, 'new_alert_properties': {}, 'new_tags': {'superphot_plus_classified'}, 'raised_halt': False}, {'locus_id': 'ANT2020r54lw', 'locus_data': FilterContext(locus_id=\"ANT2020r54lw\"), 't': 14.305953567, 'new_locus_properties': {'superphot_plus_A_ZTF_r': 0.9965471, 'superphot_plus_beta_ZTF_r': 0.0036285252, 'superphot_plus_gamma_ZTF_r': 14.177843, 'superphot_plus_t_0_ZTF_r': -16.262135, 'superphot_plus_tau_rise_ZTF_r': 1.9382818, 'superphot_plus_tau_fall_ZTF_r': 21.704926, 'superphot_plus_extra_sigma_ZTF_r': 0.09014055, 'superphot_plus_A_ZTF_g': 0.89605206, 'superphot_plus_beta_ZTF_g': -0.009885956, 'superphot_plus_gamma_ZTF_g': 19.52739, 'superphot_plus_t_0_ZTF_g': -19.14782, 'superphot_plus_tau_rise_ZTF_g': 1.8666985, 'superphot_plus_tau_fall_ZTF_g': 13.170565, 'superphot_plus_extra_sigma_ZTF_g': 0.023963898, 'superphot_plus_sampler': 'svi', 'superphot_plus_score': 1.3547179, 'superphot_plus_classifier': 'full_lightgbm_12_2024', 'superphot_plus_class': 'SN Ia', 'superphot_plus_class_prob': 0.589}, 'new_alert_properties': {}, 'new_tags': {'superphot_plus_classified'}, 'raised_halt': False}, {'locus_id': 'ANT2020k5fpk', 'locus_data': FilterContext(locus_id=\"ANT2020k5fpk\"), 't': 3.9371184749999983, 'new_locus_properties': {'superphot_plus_A_ZTF_r': 1.3394442, 'superphot_plus_beta_ZTF_r': 0.009832738, 'superphot_plus_gamma_ZTF_r': 47.380295, 'superphot_plus_t_0_ZTF_r': -22.427994, 'superphot_plus_tau_rise_ZTF_r': 10.013451, 'superphot_plus_tau_fall_ZTF_r': 39.55332, 'superphot_plus_extra_sigma_ZTF_r': 0.0068009193, 'superphot_plus_A_ZTF_g': 0.78495544, 'superphot_plus_beta_ZTF_g': -0.009972128, 'superphot_plus_gamma_ZTF_g': 35.30887, 'superphot_plus_t_0_ZTF_g': -31.406136, 'superphot_plus_tau_rise_ZTF_g': 4.818282, 'superphot_plus_tau_fall_ZTF_g': 35.558434, 'superphot_plus_extra_sigma_ZTF_g': 0.010271169, 'superphot_plus_sampler': 'svi', 'superphot_plus_score': 0.79712605, 'superphot_plus_classifier': 'full_lightgbm_12_2024', 'superphot_plus_class': 'SN IIn', 'superphot_plus_class_prob': 0.885}, 'new_alert_properties': {}, 'new_tags': {'superphot_plus_classified'}, 'raised_halt': False}, {'locus_id': 'ANT2020eb6sq', 'locus_data': FilterContext(locus_id=\"ANT2020eb6sq\"), 't': 0.2906564629999977, 'new_locus_properties': {'superphot_plus_A_ZTF_r': 0.9714745, 'superphot_plus_beta_ZTF_r': 0.004844969, 'superphot_plus_gamma_ZTF_r': 28.41951, 'superphot_plus_t_0_ZTF_r': -18.133453, 'superphot_plus_tau_rise_ZTF_r': 2.6223366, 'superphot_plus_tau_fall_ZTF_r': 103.15346, 'superphot_plus_extra_sigma_ZTF_r': 0.009069897, 'superphot_plus_A_ZTF_g': 0.8897905, 'superphot_plus_beta_ZTF_g': -0.009930489, 'superphot_plus_gamma_ZTF_g': 17.516994, 'superphot_plus_t_0_ZTF_g': -16.918276, 'superphot_plus_tau_rise_ZTF_g': 1.1854821, 'superphot_plus_tau_fall_ZTF_g': 30.971382, 'superphot_plus_extra_sigma_ZTF_g': 0.008370466, 'superphot_plus_sampler': 'svi', 'superphot_plus_score': 0.9521339, 'superphot_plus_classifier': 'full_lightgbm_12_2024', 'superphot_plus_class': 'SN II', 'superphot_plus_class_prob': 0.916}, 'new_alert_properties': {}, 'new_tags': {'superphot_plus_classified'}, 'raised_halt': False}, {'locus_id': 'ANT2020i3aa6', 'locus_data': FilterContext(locus_id=\"ANT2020i3aa6\"), 't': 3.9460497179999976, 'new_locus_properties': {'superphot_plus_A_ZTF_r': 1.5774254, 'superphot_plus_beta_ZTF_r': 0.0026595097, 'superphot_plus_gamma_ZTF_r': 28.712658, 'superphot_plus_t_0_ZTF_r': -23.836948, 'superphot_plus_tau_rise_ZTF_r': 58.844208, 'superphot_plus_tau_fall_ZTF_r': 27.57349, 'superphot_plus_extra_sigma_ZTF_r': 0.050069686, 'superphot_plus_A_ZTF_g': 1.539362, 'superphot_plus_beta_ZTF_g': -0.009899206, 'superphot_plus_gamma_ZTF_g': 30.893982, 'superphot_plus_t_0_ZTF_g': -28.994692, 'superphot_plus_tau_rise_ZTF_g': 188.0262, 'superphot_plus_tau_fall_ZTF_g': 21.412777, 'superphot_plus_extra_sigma_ZTF_g': 0.06814632, 'superphot_plus_sampler': 'svi', 'superphot_plus_score': 0.8288654, 'superphot_plus_classifier': 'full_lightgbm_12_2024', 'superphot_plus_class': 'SLSN-I', 'superphot_plus_class_prob': 0.79}, 'new_alert_properties': {}, 'new_tags': {'superphot_plus_classified'}, 'raised_halt': False}], 't_50_percentile': 3.9460497179999976, 't_90_percentile': 11.1565954322, 't_95_percentile': 12.731274499599998, 't_99_percentile': 13.99101775352}\n"
     ]
    }
   ],
   "source": [
    "print(report)"
   ]
  },
  {
   "cell_type": "code",
   "execution_count": null,
   "id": "c2034b72-f0f4-4186-a624-1c0b28efd03f",
   "metadata": {},
   "outputs": [],
   "source": []
  },
  {
   "cell_type": "code",
   "execution_count": null,
   "id": "a7a5ef1a-b1a3-4c76-84f0-82a7544bdba9",
   "metadata": {},
   "outputs": [],
   "source": []
  }
 ],
 "metadata": {
  "kernelspec": {
   "display_name": "Python 3 (ANTARES,Py3.9.18)",
   "language": "python",
   "name": "antares_py3.7"
  },
  "language_info": {
   "codemirror_mode": {
    "name": "ipython",
    "version": 3
   },
   "file_extension": ".py",
   "mimetype": "text/x-python",
   "name": "python",
   "nbconvert_exporter": "python",
   "pygments_lexer": "ipython3",
   "version": "3.9.18"
  }
 },
 "nbformat": 4,
 "nbformat_minor": 5
}
